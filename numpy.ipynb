{
 "cells": [
  {
   "cell_type": "code",
   "execution_count": 1,
   "metadata": {},
   "outputs": [
    {
     "name": "stdout",
     "output_type": "stream",
     "text": [
      "A+B =  [5 5 3]\n",
      "A-B =  [-3 -1  3]\n"
     ]
    }
   ],
   "source": [
    "import numpy as np\n",
    "A = np.array([1,2,3])\n",
    "B = np.array([4,3,0])\n",
    "print('A+B = ', np.add(A,B))\n",
    "print('A-B = ', np.subtract(A,B))"
   ]
  },
  {
   "cell_type": "code",
   "execution_count": 2,
   "metadata": {},
   "outputs": [
    {
     "name": "stdout",
     "output_type": "stream",
     "text": [
      "np.dot(C,D) =  [[18 11 16 16]\n",
      " [ 9  6 12 12]]\n",
      "np.matmul(C,D) =  [[18 11 16 16]\n",
      " [ 9  6 12 12]]\n",
      "C@D =  [[18 11 16 16]\n",
      " [ 9  6 12 12]]\n",
      "np.multiply(D,D) [[16  9 81 81]\n",
      " [ 1  1  4  4]\n",
      " [16  4  1  1]]\n",
      "D*D =  [[16  9 81 81]\n",
      " [ 1  1  4  4]\n",
      " [16  4  1  1]]\n"
     ]
    }
   ],
   "source": [
    "C = np.array([[1,2,3],\n",
    "              [1,1,1]])\n",
    "D = np.array([[4,3,9,9],\n",
    "             [1,1,2,2],\n",
    "             [4,2,1,1]])\n",
    "print('np.dot(C,D) = ', np.dot(C,D))\n",
    "print('np.matmul(C,D) = ',np.matmul(C,D))\n",
    "print('C@D = ', np.matmul(C,D))\n",
    "\n",
    "print('np.multiply(D,D)',np.multiply(D,D))\n",
    "print('D*D = ',D*D)"
   ]
  }
 ],
 "metadata": {
  "kernelspec": {
   "display_name": "Python 3",
   "language": "python",
   "name": "python3"
  },
  "language_info": {
   "codemirror_mode": {
    "name": "ipython",
    "version": 3
   },
   "file_extension": ".py",
   "mimetype": "text/x-python",
   "name": "python",
   "nbconvert_exporter": "python",
   "pygments_lexer": "ipython3",
   "version": "3.6.4"
  }
 },
 "nbformat": 4,
 "nbformat_minor": 2
}
